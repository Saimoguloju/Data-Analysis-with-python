{
 "cells": [
  {
   "cell_type": "code",
   "execution_count": 1,
   "id": "941059ca",
   "metadata": {},
   "outputs": [],
   "source": [
    "import numpy as np\n",
    "import pandas as pd\n",
    "import matplotlib.pyplot as plt\n",
    "import seaborn as sns \n",
    "\n",
    "import warnings\n",
    "warnings.filterwarnings(\"ignore\")"
   ]
  },
  {
   "cell_type": "code",
   "execution_count": 2,
   "id": "8d94c565",
   "metadata": {},
   "outputs": [],
   "source": [
    "df = pd.read_csv(\"data.csv\")"
   ]
  },
  {
   "cell_type": "code",
   "execution_count": 3,
   "id": "971d0423",
   "metadata": {},
   "outputs": [
    {
     "data": {
      "text/html": [
       "<div>\n",
       "<style scoped>\n",
       "    .dataframe tbody tr th:only-of-type {\n",
       "        vertical-align: middle;\n",
       "    }\n",
       "\n",
       "    .dataframe tbody tr th {\n",
       "        vertical-align: top;\n",
       "    }\n",
       "\n",
       "    .dataframe thead th {\n",
       "        text-align: right;\n",
       "    }\n",
       "</style>\n",
       "<table border=\"1\" class=\"dataframe\">\n",
       "  <thead>\n",
       "    <tr style=\"text-align: right;\">\n",
       "      <th></th>\n",
       "      <th>country</th>\n",
       "      <th>Year</th>\n",
       "      <th>Total number of emigrants</th>\n",
       "      <th>percentage</th>\n",
       "    </tr>\n",
       "  </thead>\n",
       "  <tbody>\n",
       "    <tr>\n",
       "      <th>0</th>\n",
       "      <td>Afghanistan</td>\n",
       "      <td>1990</td>\n",
       "      <td>7679582</td>\n",
       "      <td>2,59%</td>\n",
       "    </tr>\n",
       "    <tr>\n",
       "      <th>1</th>\n",
       "      <td>Africa</td>\n",
       "      <td>1990</td>\n",
       "      <td>20621464</td>\n",
       "      <td>0,97%</td>\n",
       "    </tr>\n",
       "    <tr>\n",
       "      <th>2</th>\n",
       "      <td>Albania</td>\n",
       "      <td>1990</td>\n",
       "      <td>180204</td>\n",
       "      <td>110,43%</td>\n",
       "    </tr>\n",
       "    <tr>\n",
       "      <th>3</th>\n",
       "      <td>Algeria</td>\n",
       "      <td>1990</td>\n",
       "      <td>921665</td>\n",
       "      <td>21,59%</td>\n",
       "    </tr>\n",
       "    <tr>\n",
       "      <th>4</th>\n",
       "      <td>American Samoa</td>\n",
       "      <td>1990</td>\n",
       "      <td>2041</td>\n",
       "      <td>9750,12%</td>\n",
       "    </tr>\n",
       "    <tr>\n",
       "      <th>...</th>\n",
       "      <td>...</td>\n",
       "      <td>...</td>\n",
       "      <td>...</td>\n",
       "      <td>...</td>\n",
       "    </tr>\n",
       "    <tr>\n",
       "      <th>1969</th>\n",
       "      <td>Western Sahara</td>\n",
       "      <td>2020</td>\n",
       "      <td>194932</td>\n",
       "      <td>103,63%</td>\n",
       "    </tr>\n",
       "    <tr>\n",
       "      <th>1970</th>\n",
       "      <td>World</td>\n",
       "      <td>2020</td>\n",
       "      <td>280598105</td>\n",
       "      <td>0,07%</td>\n",
       "    </tr>\n",
       "    <tr>\n",
       "      <th>1971</th>\n",
       "      <td>Yemen</td>\n",
       "      <td>2020</td>\n",
       "      <td>1301166</td>\n",
       "      <td>15,52%</td>\n",
       "    </tr>\n",
       "    <tr>\n",
       "      <th>1972</th>\n",
       "      <td>Zambia</td>\n",
       "      <td>2020</td>\n",
       "      <td>200700</td>\n",
       "      <td>100,65%</td>\n",
       "    </tr>\n",
       "    <tr>\n",
       "      <th>1973</th>\n",
       "      <td>Zimbabwe</td>\n",
       "      <td>2020</td>\n",
       "      <td>1243314</td>\n",
       "      <td>16,25%</td>\n",
       "    </tr>\n",
       "  </tbody>\n",
       "</table>\n",
       "<p>1974 rows × 4 columns</p>\n",
       "</div>"
      ],
      "text/plain": [
       "             country  Year  Total number of emigrants percentage\n",
       "0        Afghanistan  1990                    7679582      2,59%\n",
       "1             Africa  1990                   20621464      0,97%\n",
       "2            Albania  1990                     180204    110,43%\n",
       "3            Algeria  1990                     921665     21,59%\n",
       "4     American Samoa  1990                       2041   9750,12%\n",
       "...              ...   ...                        ...        ...\n",
       "1969  Western Sahara  2020                     194932    103,63%\n",
       "1970           World  2020                  280598105      0,07%\n",
       "1971           Yemen  2020                    1301166     15,52%\n",
       "1972          Zambia  2020                     200700    100,65%\n",
       "1973        Zimbabwe  2020                    1243314     16,25%\n",
       "\n",
       "[1974 rows x 4 columns]"
      ]
     },
     "execution_count": 3,
     "metadata": {},
     "output_type": "execute_result"
    }
   ],
   "source": [
    "df"
   ]
  },
  {
   "cell_type": "code",
   "execution_count": 4,
   "id": "21bba1ff",
   "metadata": {},
   "outputs": [
    {
     "data": {
      "text/plain": [
       "(1974, 4)"
      ]
     },
     "execution_count": 4,
     "metadata": {},
     "output_type": "execute_result"
    }
   ],
   "source": [
    "df.shape"
   ]
  },
  {
   "cell_type": "code",
   "execution_count": 5,
   "id": "df91ba12",
   "metadata": {},
   "outputs": [
    {
     "data": {
      "text/plain": [
       "Index(['country', 'Year', 'Total number of emigrants', 'percentage'], dtype='object')"
      ]
     },
     "execution_count": 5,
     "metadata": {},
     "output_type": "execute_result"
    }
   ],
   "source": [
    "df.columns"
   ]
  },
  {
   "cell_type": "code",
   "execution_count": 6,
   "id": "87ddd26d",
   "metadata": {},
   "outputs": [
    {
     "data": {
      "text/plain": [
       "country                      object\n",
       "Year                          int64\n",
       "Total number of emigrants     int64\n",
       "percentage                   object\n",
       "dtype: object"
      ]
     },
     "execution_count": 6,
     "metadata": {},
     "output_type": "execute_result"
    }
   ],
   "source": [
    "df.dtypes"
   ]
  },
  {
   "cell_type": "code",
   "execution_count": 7,
   "id": "14506585",
   "metadata": {},
   "outputs": [
    {
     "name": "stdout",
     "output_type": "stream",
     "text": [
      "<class 'pandas.core.frame.DataFrame'>\n",
      "RangeIndex: 1974 entries, 0 to 1973\n",
      "Data columns (total 4 columns):\n",
      " #   Column                     Non-Null Count  Dtype \n",
      "---  ------                     --------------  ----- \n",
      " 0   country                    1974 non-null   object\n",
      " 1   Year                       1974 non-null   int64 \n",
      " 2   Total number of emigrants  1974 non-null   int64 \n",
      " 3   percentage                 1974 non-null   object\n",
      "dtypes: int64(2), object(2)\n",
      "memory usage: 61.8+ KB\n"
     ]
    }
   ],
   "source": [
    "df.info()"
   ]
  },
  {
   "cell_type": "code",
   "execution_count": 8,
   "id": "e4137678",
   "metadata": {},
   "outputs": [
    {
     "data": {
      "text/html": [
       "<div>\n",
       "<style scoped>\n",
       "    .dataframe tbody tr th:only-of-type {\n",
       "        vertical-align: middle;\n",
       "    }\n",
       "\n",
       "    .dataframe tbody tr th {\n",
       "        vertical-align: top;\n",
       "    }\n",
       "\n",
       "    .dataframe thead th {\n",
       "        text-align: right;\n",
       "    }\n",
       "</style>\n",
       "<table border=\"1\" class=\"dataframe\">\n",
       "  <thead>\n",
       "    <tr style=\"text-align: right;\">\n",
       "      <th></th>\n",
       "      <th>Year</th>\n",
       "      <th>Total number of emigrants</th>\n",
       "    </tr>\n",
       "  </thead>\n",
       "  <tbody>\n",
       "    <tr>\n",
       "      <th>count</th>\n",
       "      <td>1974.000000</td>\n",
       "      <td>1.974000e+03</td>\n",
       "    </tr>\n",
       "    <tr>\n",
       "      <th>mean</th>\n",
       "      <td>2005.000000</td>\n",
       "      <td>6.308548e+06</td>\n",
       "    </tr>\n",
       "    <tr>\n",
       "      <th>std</th>\n",
       "      <td>10.002534</td>\n",
       "      <td>2.210230e+07</td>\n",
       "    </tr>\n",
       "    <tr>\n",
       "      <th>min</th>\n",
       "      <td>1990.000000</td>\n",
       "      <td>0.000000e+00</td>\n",
       "    </tr>\n",
       "    <tr>\n",
       "      <th>25%</th>\n",
       "      <td>1995.000000</td>\n",
       "      <td>5.055700e+04</td>\n",
       "    </tr>\n",
       "    <tr>\n",
       "      <th>50%</th>\n",
       "      <td>2005.000000</td>\n",
       "      <td>4.416955e+05</td>\n",
       "    </tr>\n",
       "    <tr>\n",
       "      <th>75%</th>\n",
       "      <td>2015.000000</td>\n",
       "      <td>1.666904e+06</td>\n",
       "    </tr>\n",
       "    <tr>\n",
       "      <th>max</th>\n",
       "      <td>2020.000000</td>\n",
       "      <td>2.805981e+08</td>\n",
       "    </tr>\n",
       "  </tbody>\n",
       "</table>\n",
       "</div>"
      ],
      "text/plain": [
       "              Year  Total number of emigrants\n",
       "count  1974.000000               1.974000e+03\n",
       "mean   2005.000000               6.308548e+06\n",
       "std      10.002534               2.210230e+07\n",
       "min    1990.000000               0.000000e+00\n",
       "25%    1995.000000               5.055700e+04\n",
       "50%    2005.000000               4.416955e+05\n",
       "75%    2015.000000               1.666904e+06\n",
       "max    2020.000000               2.805981e+08"
      ]
     },
     "execution_count": 8,
     "metadata": {},
     "output_type": "execute_result"
    }
   ],
   "source": [
    "df.describe()"
   ]
  },
  {
   "cell_type": "code",
   "execution_count": 9,
   "id": "9678b617",
   "metadata": {},
   "outputs": [
    {
     "data": {
      "text/plain": [
       "country                      0\n",
       "Year                         0\n",
       "Total number of emigrants    0\n",
       "percentage                   0\n",
       "dtype: int64"
      ]
     },
     "execution_count": 9,
     "metadata": {},
     "output_type": "execute_result"
    }
   ],
   "source": [
    "df.isna().sum()"
   ]
  },
  {
   "cell_type": "code",
   "execution_count": 31,
   "id": "248e084f",
   "metadata": {},
   "outputs": [
    {
     "name": "stdout",
     "output_type": "stream",
     "text": [
      "No of countries: 282\n",
      "countries are: ['Afghanistan' 'Africa' 'Albania' 'Algeria' 'American Samoa' 'Andorra'\n",
      " 'Angola' 'Anguilla' 'Antigua and Barbuda' 'Argentina' 'Armenia' 'Aruba'\n",
      " 'Asia' 'Australia' 'Australia and New Zealand' 'Austria' 'Azerbaijan'\n",
      " 'Bahamas' 'Bahrain' 'Bangladesh' 'Barbados' 'Belarus' 'Belgium' 'Belize'\n",
      " 'Benin' 'Bermuda' 'Bhutan' 'Bolivia' 'Bonaire Sint Eustatius and Saba'\n",
      " 'Bosnia and Herzegovina' 'Botswana' 'Brazil' 'British Virgin Islands'\n",
      " 'Brunei' 'Bulgaria' 'Burkina Faso' 'Burundi' 'Cambodia' 'Cameroon'\n",
      " 'Canada' 'Cape Verde' 'Caribbean' 'Cayman Islands'\n",
      " 'Central African Republic' 'Central America' 'Central Asia'\n",
      " 'Central and Southern Asia' 'Chad' 'Channel Islands' 'Chile' 'China'\n",
      " 'Colombia' 'Comoros' 'Congo' 'Cook Islands' 'Costa Rica' \"Cote d'Ivoire\"\n",
      " 'Croatia' 'Cuba' 'Curacao' 'Cyprus' 'Czechia'\n",
      " 'Democratic Republic of Congo' 'Denmark' 'Developed regions' 'Djibouti'\n",
      " 'Dominica' 'Dominican Republic' 'East Timor' 'Eastern Africa'\n",
      " 'Eastern Asia' 'Eastern Europe' 'Eastern and South-Eastern Asia'\n",
      " 'Ecuador' 'Egypt' 'El Salvador' 'Equatorial Guinea' 'Eritrea' 'Estonia'\n",
      " 'Eswatini' 'Ethiopia' 'Europe' 'Europe and Northern America'\n",
      " 'Falkland Islands' 'Faroe Islands' 'Fiji' 'Finland' 'France'\n",
      " 'French Guiana' 'French Polynesia' 'Gabon' 'Gambia' 'Georgia' 'Germany'\n",
      " 'Ghana' 'Gibraltar' 'Greece' 'Greenland' 'Grenada' 'Guadeloupe' 'Guam'\n",
      " 'Guatemala' 'Guinea' 'Guinea-Bissau' 'Guyana' 'Haiti'\n",
      " 'High-income countries' 'Honduras' 'Hong Kong' 'Hungary' 'Iceland'\n",
      " 'India' 'Indonesia' 'Iran' 'Iraq' 'Ireland' 'Isle of Man' 'Israel'\n",
      " 'Italy' 'Jamaica' 'Japan' 'Jordan' 'Kazakhstan' 'Kenya' 'Kiribati'\n",
      " 'Kuwait' 'Kyrgyzstan' 'Land-locked Developing Countries (LLDC)' 'Laos'\n",
      " 'Latin America and the Caribbean' 'Latvia' 'Least developed countries'\n",
      " 'Lebanon' 'Lesotho' 'Less developed regions'\n",
      " 'Less developed regions, excluding China'\n",
      " 'Less developed regions, excluding least developed countries' 'Liberia'\n",
      " 'Libya' 'Liechtenstein' 'Lithuania' 'Low-income countries'\n",
      " 'Lower-middle-income countries' 'Luxembourg' 'Macao' 'Madagascar'\n",
      " 'Malawi' 'Malaysia' 'Maldives' 'Mali' 'Malta' 'Marshall Islands'\n",
      " 'Martinique' 'Mauritania' 'Mauritius' 'Mayotte' 'Melanesia' 'Mexico'\n",
      " 'Micronesia' 'Micronesia (country)' 'Middle Africa'\n",
      " 'Middle-income countries' 'Moldova' 'Monaco' 'Mongolia' 'Montenegro'\n",
      " 'Montserrat' 'Morocco' 'Mozambique' 'Myanmar' 'Namibia' 'Nauru' 'Nepal'\n",
      " 'Netherlands' 'New Caledonia' 'New Zealand' 'Nicaragua' 'Niger' 'Nigeria'\n",
      " 'Niue' 'North Korea' 'North Macedonia' 'Northern Africa'\n",
      " 'Northern Africa and Western Asia' 'Northern America' 'Northern Europe'\n",
      " 'Northern Mariana Islands' 'Norway' 'Oceania'\n",
      " 'Oceania (excluding Australia and New Zealand)' 'Oman' 'Other' 'Pakistan'\n",
      " 'Palau' 'Palestine' 'Panama' 'Papua New Guinea' 'Paraguay' 'Peru'\n",
      " 'Philippines' 'Poland' 'Polynesia' 'Portugal' 'Puerto Rico' 'Qatar'\n",
      " 'Reunion' 'Romania' 'Russia' 'Rwanda' 'Saint Barthelemy' 'Saint Helena'\n",
      " 'Saint Kitts and Nevis' 'Saint Lucia' 'Saint Martin (French part)'\n",
      " 'Saint Pierre and Miquelon' 'Saint Vincent and the Grenadines' 'Samoa'\n",
      " 'San Marino' 'Sao Tome and Principe' 'Saudi Arabia' 'Senegal' 'Serbia'\n",
      " 'Seychelles' 'Sierra Leone' 'Singapore' 'Sint Maarten (Dutch part)'\n",
      " 'Slovakia' 'Slovenia' 'Small island developing States (SIDS)'\n",
      " 'Solomon Islands' 'Somalia' 'South Africa' 'South America' 'South Korea'\n",
      " 'South Sudan' 'South-Eastern Asia' 'Southern Africa' 'Southern Asia'\n",
      " 'Southern Europe' 'Spain' 'Sri Lanka' 'Sub-Saharan Africa' 'Sudan'\n",
      " 'Suriname' 'Sweden' 'Switzerland' 'Syria' 'Taiwan' 'Tajikistan'\n",
      " 'Tanzania' 'Thailand' 'Togo' 'Tokelau' 'Tonga' 'Trinidad and Tobago'\n",
      " 'Tunisia' 'Turkey' 'Turkmenistan' 'Turks and Caicos Islands' 'Tuvalu'\n",
      " 'Uganda' 'Ukraine' 'United Arab Emirates' 'United Kingdom'\n",
      " 'United States' 'United States Virgin Islands'\n",
      " 'Upper-middle-income countries' 'Uruguay' 'Uzbekistan' 'Vanuatu'\n",
      " 'Vatican' 'Venezuela' 'Vietnam' 'Wallis and Futuna' 'Western Africa'\n",
      " 'Western Asia' 'Western Europe' 'Western Sahara' 'World' 'Yemen' 'Zambia'\n",
      " 'Zimbabwe']\n"
     ]
    }
   ],
   "source": [
    "print(\"No of countries:\",df['country'].nunique())\n",
    "print(\"countries are:\",df['country'].unique())"
   ]
  },
  {
   "cell_type": "code",
   "execution_count": 40,
   "id": "28d06363",
   "metadata": {},
   "outputs": [
    {
     "name": "stdout",
     "output_type": "stream",
     "text": [
      "     country  Year  Total number of emigrants percentage\n",
      "111    India  1990                    6619431      3,01%\n",
      "393    India  1995                    7153439      2,79%\n",
      "675    India  2000                    7928051      2,52%\n",
      "957    India  2005                    9588533      2,09%\n",
      "1239   India  2010                   13221963      1,52%\n",
      "1521   India  2015                   15885657      1,27%\n",
      "1803   India  2020                   17869492      1,13%\n"
     ]
    }
   ],
   "source": [
    "# Filter the dataset where the 'country' column is \"india\"\n",
    "india_records = df[df['country'].str.lower() == \"india\"]\n",
    "# Display the records\n",
    "print(india_records)"
   ]
  },
  {
   "cell_type": "code",
   "execution_count": 41,
   "id": "ca8f9505",
   "metadata": {},
   "outputs": [
    {
     "data": {
      "image/png": "[encoded data removed]",
      "text/plain": [
       "<Figure size 1000x600 with 1 Axes>"
      ]
     },
     "metadata": {},
     "output_type": "display_data"
    }
   ],
   "source": [
    "# Assuming 'Year' and 'percentage' columns exist in india_records\n",
    "year = india_records['Year']\n",
    "percentage = india_records['percentage']\n",
    "\n",
    "# Plotting the data\n",
    "plt.figure(figsize=(10, 6))\n",
    "plt.plot(year, percentage, marker='o', linestyle='-', color='blue', label='Percentage')  \n",
    "plt.title('Year-wise Records for India', fontsize=16)\n",
    "plt.xlabel('Year', fontsize=14)\n",
    "plt.ylabel('Percentage (%)', fontsize=14)\n",
    "plt.xticks(rotation=45, fontsize=12)\n",
    "plt.yticks(fontsize=12)\n",
    "plt.legend(fontsize=12)\n",
    "plt.grid(axis='y', linestyle='--', alpha=0.7)\n",
    "plt.tight_layout()\n",
    "plt.savefig(\"Year-wise Records for India\")\n",
    "plt.show()"
   ]
  },
  {
   "cell_type": "code",
   "execution_count": 42,
   "id": "29552fac",
   "metadata": {},
   "outputs": [
    {
     "name": "stdout",
     "output_type": "stream",
     "text": [
      "     country  Year  Total number of emigrants percentage\n",
      "120    Japan  1990                     604803     32,90%\n",
      "402    Japan  1995                     653293     30,54%\n",
      "684    Japan  2000                     708933     28,21%\n",
      "966    Japan  2005                     718466     27,91%\n",
      "1248   Japan  2010                     756792     26,56%\n",
      "1530   Japan  2015                     764408     26,36%\n",
      "1812   Japan  2020                     808825     24,97%\n"
     ]
    }
   ],
   "source": [
    "japan_records = df[df['country'].str.lower() == \"japan\"]\n",
    "print(japan_records)"
   ]
  },
  {
   "cell_type": "code",
   "execution_count": 43,
   "id": "296bf4a4",
   "metadata": {},
   "outputs": [
    {
     "data": {
      "image/png": "[encoded data removed]",
      "text/plain": [
       "<Figure size 1000x600 with 1 Axes>"
      ]
     },
     "metadata": {},
     "output_type": "display_data"
    }
   ],
   "source": [
    "# Cleaning the percentage column\n",
    "japan_records['percentage'] = japan_records['percentage'].str.replace(',', '').str.replace('%', '').astype(float)\n",
    "\n",
    "# Extract year and percentage\n",
    "year = japan_records['Year']\n",
    "percentage = japan_records['percentage']\n",
    "\n",
    "# Plotting the histogram\n",
    "plt.figure(figsize=(10, 6))\n",
    "sns.histplot(x=year, weights=percentage, bins=10, kde=True, color='blue', edgecolor='black', alpha=0.7)\n",
    "plt.title('Year-wise Weighted Percentage Distribution with KDE for Japan', fontsize=16)\n",
    "plt.xlabel('Year', fontsize=14)\n",
    "plt.ylabel('Weighted Percentage', fontsize=14)\n",
    "plt.xticks(rotation=45, fontsize=12)\n",
    "plt.yticks(fontsize=12)\n",
    "plt.grid(axis='y', linestyle='--', alpha=0.7)\n",
    "plt.tight_layout()\n",
    "plt.savefig(\"Year-wise Weighted Percentage Distribution with KDE for Japan\")\n",
    "plt.show()"
   ]
  },
  {
   "cell_type": "code",
   "execution_count": 45,
   "id": "840fce94",
   "metadata": {},
   "outputs": [],
   "source": [
    "emigrants = df['Total number of emigrants']"
   ]
  },
  {
   "cell_type": "code",
   "execution_count": 46,
   "id": "b39e4418",
   "metadata": {},
   "outputs": [
    {
     "data": {
      "text/plain": [
       "0         7679582\n",
       "1        20621464\n",
       "2          180204\n",
       "3          921665\n",
       "4            2041\n",
       "          ...    \n",
       "1969       194932\n",
       "1970    280598105\n",
       "1971      1301166\n",
       "1972       200700\n",
       "1973      1243314\n",
       "Name: Total number of emigrants, Length: 1974, dtype: int64"
      ]
     },
     "execution_count": 46,
     "metadata": {},
     "output_type": "execute_result"
    }
   ],
   "source": [
    "emigrants"
   ]
  },
  {
   "cell_type": "code",
   "execution_count": 47,
   "id": "744860da",
   "metadata": {},
   "outputs": [
    {
     "data": {
      "text/plain": [
       "280598105"
      ]
     },
     "execution_count": 47,
     "metadata": {},
     "output_type": "execute_result"
    }
   ],
   "source": [
    "max(emigrants)"
   ]
  },
  {
   "cell_type": "code",
   "execution_count": 49,
   "id": "94c347ca",
   "metadata": {},
   "outputs": [],
   "source": [
    "max_emigrants_record = df.loc[df['Total number of emigrants'].idxmax()]"
   ]
  },
  {
   "cell_type": "code",
   "execution_count": 50,
   "id": "716005bc",
   "metadata": {},
   "outputs": [
    {
     "data": {
      "text/plain": [
       "country                          World\n",
       "Year                              2020\n",
       "Total number of emigrants    280598105\n",
       "percentage                       0,07%\n",
       "Name: 1970, dtype: object"
      ]
     },
     "execution_count": 50,
     "metadata": {},
     "output_type": "execute_result"
    }
   ],
   "source": [
    "max_emigrants_record"
   ]
  },
  {
   "cell_type": "code",
   "execution_count": 52,
   "id": "7e38bbe2",
   "metadata": {
    "scrolled": true
   },
   "outputs": [
    {
     "name": "stdout",
     "output_type": "stream",
     "text": [
      "     country  Year  Total number of emigrants percentage\n",
      "278    World  1990                  152986157      0,13%\n",
      "560    World  1995                  161289976      0,12%\n",
      "842    World  2000                  173230585      0,12%\n",
      "1124   World  2005                  191446828      0,10%\n",
      "1406   World  2010                  220983187      0,09%\n",
      "1688   World  2015                  247958644      0,08%\n",
      "1970   World  2020                  280598105      0,07%\n"
     ]
    }
   ],
   "source": [
    "world_records = df[df['country'].str.lower() == \"world\"]\n",
    "# Display the records\n",
    "print(world_records)"
   ]
  },
  {
   "cell_type": "code",
   "execution_count": 53,
   "id": "a77bf22c",
   "metadata": {},
   "outputs": [],
   "source": [
    "min_emigrants_record = df.loc[df['Total number of emigrants'].idxmin()]"
   ]
  },
  {
   "cell_type": "code",
   "execution_count": 54,
   "id": "cc9308ca",
   "metadata": {},
   "outputs": [
    {
     "data": {
      "text/plain": [
       "country                      Saint Barthelemy\n",
       "Year                                     1990\n",
       "Total number of emigrants                   0\n",
       "percentage                               none\n",
       "Name: 209, dtype: object"
      ]
     },
     "execution_count": 54,
     "metadata": {},
     "output_type": "execute_result"
    }
   ],
   "source": [
    "min_emigrants_record"
   ]
  },
  {
   "cell_type": "code",
   "execution_count": null,
   "id": "24d4ac7a",
   "metadata": {},
   "outputs": [],
   "source": []
  }
 ],
 "metadata": {
  "kernelspec": {
   "display_name": "Python 3 (ipykernel)",
   "language": "python",
   "name": "python3"
  },
  "language_info": {
   "codemirror_mode": {
    "name": "ipython",
    "version": 3
   },
   "file_extension": ".py",
   "mimetype": "text/x-python",
   "name": "python",
   "nbconvert_exporter": "python",
   "pygments_lexer": "ipython3",
   "version": "3.10.9"
  }
 },
 "nbformat": 4,
 "nbformat_minor": 5
}
