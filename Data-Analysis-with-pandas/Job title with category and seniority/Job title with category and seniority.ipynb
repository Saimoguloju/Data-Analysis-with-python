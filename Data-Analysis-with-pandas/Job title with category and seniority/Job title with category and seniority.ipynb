{
 "cells": [
  {
   "cell_type": "code",
   "execution_count": 2,
   "id": "ea9db66c",
   "metadata": {},
   "outputs": [],
   "source": [
    "import numpy as np\n",
    "import pandas as pd\n",
    "import matplotlib.pyplot as plt\n",
    "import seaborn as sns \n",
    "\n",
    "import warnings\n",
    "warnings.filterwarnings(\"ignore\")"
   ]
  },
  {
   "cell_type": "code",
   "execution_count": 5,
   "id": "c71b05eb",
   "metadata": {},
   "outputs": [],
   "source": [
    "df = pd.read_csv(\"data.csv\")"
   ]
  },
  {
   "cell_type": "code",
   "execution_count": 6,
   "id": "513e7377",
   "metadata": {},
   "outputs": [
    {
     "data": {
      "text/html": [
       "<div>\n",
       "<style scoped>\n",
       "    .dataframe tbody tr th:only-of-type {\n",
       "        vertical-align: middle;\n",
       "    }\n",
       "\n",
       "    .dataframe tbody tr th {\n",
       "        vertical-align: top;\n",
       "    }\n",
       "\n",
       "    .dataframe thead th {\n",
       "        text-align: right;\n",
       "    }\n",
       "</style>\n",
       "<table border=\"1\" class=\"dataframe\">\n",
       "  <thead>\n",
       "    <tr style=\"text-align: right;\">\n",
       "      <th></th>\n",
       "      <th>job_id</th>\n",
       "      <th>job_title</th>\n",
       "      <th>category</th>\n",
       "      <th>subcategory</th>\n",
       "      <th>role</th>\n",
       "      <th>Updated category</th>\n",
       "      <th>importance</th>\n",
       "    </tr>\n",
       "  </thead>\n",
       "  <tbody>\n",
       "    <tr>\n",
       "      <th>0</th>\n",
       "      <td>74630583</td>\n",
       "      <td>Procurement Executive (Contract)</td>\n",
       "      <td>Manufacturing, Transport &amp; Logistics</td>\n",
       "      <td>Purchasing, Procurement &amp; Inventory</td>\n",
       "      <td>procurement-executive</td>\n",
       "      <td>NaN</td>\n",
       "      <td>Niveau 1</td>\n",
       "    </tr>\n",
       "    <tr>\n",
       "      <th>1</th>\n",
       "      <td>74660602</td>\n",
       "      <td>Account Executive/ Assistant</td>\n",
       "      <td>Accounting</td>\n",
       "      <td>Bookkeeping &amp; Small Practice Accounting</td>\n",
       "      <td>executive-assistant</td>\n",
       "      <td>NaN</td>\n",
       "      <td>Niveau 3</td>\n",
       "    </tr>\n",
       "    <tr>\n",
       "      <th>2</th>\n",
       "      <td>74679363</td>\n",
       "      <td>Purchasing Executive</td>\n",
       "      <td>Manufacturing, Transport &amp; Logistics</td>\n",
       "      <td>Purchasing, Procurement &amp; Inventory</td>\n",
       "      <td>purchasing-executive</td>\n",
       "      <td>Operations/Logistics</td>\n",
       "      <td>Niveau 1</td>\n",
       "    </tr>\n",
       "    <tr>\n",
       "      <th>3</th>\n",
       "      <td>74657915</td>\n",
       "      <td>PURCHASING EXECUTIVE</td>\n",
       "      <td>Engineering</td>\n",
       "      <td>Project Engineering</td>\n",
       "      <td>purchasing-executive</td>\n",
       "      <td>Operations/Logistics</td>\n",
       "      <td>Niveau 1</td>\n",
       "    </tr>\n",
       "    <tr>\n",
       "      <th>4</th>\n",
       "      <td>74662794</td>\n",
       "      <td>Accounts Assistant (AP)</td>\n",
       "      <td>Accounting</td>\n",
       "      <td>Accounts Payable</td>\n",
       "      <td>accounts-assistant</td>\n",
       "      <td>NaN</td>\n",
       "      <td>Niveau 3</td>\n",
       "    </tr>\n",
       "    <tr>\n",
       "      <th>...</th>\n",
       "      <td>...</td>\n",
       "      <td>...</td>\n",
       "      <td>...</td>\n",
       "      <td>...</td>\n",
       "      <td>...</td>\n",
       "      <td>...</td>\n",
       "      <td>...</td>\n",
       "    </tr>\n",
       "    <tr>\n",
       "      <th>39690</th>\n",
       "      <td>76659690</td>\n",
       "      <td>Hotel Manager</td>\n",
       "      <td>Hospitality &amp; Tourism</td>\n",
       "      <td>Management</td>\n",
       "      <td>hotel-manager</td>\n",
       "      <td>NaN</td>\n",
       "      <td>Niveau 3</td>\n",
       "    </tr>\n",
       "    <tr>\n",
       "      <th>39691</th>\n",
       "      <td>76653277</td>\n",
       "      <td>Marketing Specialist, APAC</td>\n",
       "      <td>Marketing &amp; Communications</td>\n",
       "      <td>Marketing Communications</td>\n",
       "      <td>marketing-specialist</td>\n",
       "      <td>Marketing/Sales</td>\n",
       "      <td>NaN</td>\n",
       "    </tr>\n",
       "    <tr>\n",
       "      <th>39692</th>\n",
       "      <td>76674488</td>\n",
       "      <td>Talent Acquisition Partner</td>\n",
       "      <td>Human Resources &amp; Recruitment</td>\n",
       "      <td>Recruitment - Internal</td>\n",
       "      <td>talent-acquisition-partner</td>\n",
       "      <td>Human Resources (HR)</td>\n",
       "      <td>NaN</td>\n",
       "    </tr>\n",
       "    <tr>\n",
       "      <th>39693</th>\n",
       "      <td>76658887</td>\n",
       "      <td>Motor Insurance Executive</td>\n",
       "      <td>Insurance &amp; Superannuation</td>\n",
       "      <td>Brokerage</td>\n",
       "      <td>Motor-Insurance-Executive</td>\n",
       "      <td>NaN</td>\n",
       "      <td>Niveau 1</td>\n",
       "    </tr>\n",
       "    <tr>\n",
       "      <th>39694</th>\n",
       "      <td>76653289</td>\n",
       "      <td>Banca Specialist (Klang Valley)</td>\n",
       "      <td>Banking &amp; Financial Services</td>\n",
       "      <td>Banking - Retail/Branch</td>\n",
       "      <td>specialist</td>\n",
       "      <td>Finance</td>\n",
       "      <td>Niveau 3</td>\n",
       "    </tr>\n",
       "  </tbody>\n",
       "</table>\n",
       "<p>39695 rows × 7 columns</p>\n",
       "</div>"
      ],
      "text/plain": [
       "         job_id                         job_title  \\\n",
       "0      74630583  Procurement Executive (Contract)   \n",
       "1      74660602      Account Executive/ Assistant   \n",
       "2      74679363              Purchasing Executive   \n",
       "3      74657915              PURCHASING EXECUTIVE   \n",
       "4      74662794           Accounts Assistant (AP)   \n",
       "...         ...                               ...   \n",
       "39690  76659690                     Hotel Manager   \n",
       "39691  76653277        Marketing Specialist, APAC   \n",
       "39692  76674488        Talent Acquisition Partner   \n",
       "39693  76658887         Motor Insurance Executive   \n",
       "39694  76653289   Banca Specialist (Klang Valley)   \n",
       "\n",
       "                                   category  \\\n",
       "0      Manufacturing, Transport & Logistics   \n",
       "1                                Accounting   \n",
       "2      Manufacturing, Transport & Logistics   \n",
       "3                               Engineering   \n",
       "4                                Accounting   \n",
       "...                                     ...   \n",
       "39690                 Hospitality & Tourism   \n",
       "39691            Marketing & Communications   \n",
       "39692         Human Resources & Recruitment   \n",
       "39693            Insurance & Superannuation   \n",
       "39694          Banking & Financial Services   \n",
       "\n",
       "                                   subcategory                        role  \\\n",
       "0          Purchasing, Procurement & Inventory       procurement-executive   \n",
       "1      Bookkeeping & Small Practice Accounting         executive-assistant   \n",
       "2          Purchasing, Procurement & Inventory        purchasing-executive   \n",
       "3                          Project Engineering        purchasing-executive   \n",
       "4                             Accounts Payable          accounts-assistant   \n",
       "...                                        ...                         ...   \n",
       "39690                               Management               hotel-manager   \n",
       "39691                 Marketing Communications        marketing-specialist   \n",
       "39692                   Recruitment - Internal  talent-acquisition-partner   \n",
       "39693                                Brokerage   Motor-Insurance-Executive   \n",
       "39694                  Banking - Retail/Branch                  specialist   \n",
       "\n",
       "           Updated category importance  \n",
       "0                       NaN   Niveau 1  \n",
       "1                       NaN   Niveau 3  \n",
       "2      Operations/Logistics   Niveau 1  \n",
       "3      Operations/Logistics   Niveau 1  \n",
       "4                       NaN   Niveau 3  \n",
       "...                     ...        ...  \n",
       "39690                   NaN   Niveau 3  \n",
       "39691       Marketing/Sales        NaN  \n",
       "39692  Human Resources (HR)        NaN  \n",
       "39693                   NaN   Niveau 1  \n",
       "39694               Finance   Niveau 3  \n",
       "\n",
       "[39695 rows x 7 columns]"
      ]
     },
     "execution_count": 6,
     "metadata": {},
     "output_type": "execute_result"
    }
   ],
   "source": [
    "df"
   ]
  },
  {
   "cell_type": "code",
   "execution_count": 7,
   "id": "3696ea46",
   "metadata": {},
   "outputs": [
    {
     "data": {
      "text/plain": [
       "(39695, 7)"
      ]
     },
     "execution_count": 7,
     "metadata": {},
     "output_type": "execute_result"
    }
   ],
   "source": [
    "df.shape"
   ]
  },
  {
   "cell_type": "code",
   "execution_count": 8,
   "id": "e5350c01",
   "metadata": {},
   "outputs": [
    {
     "data": {
      "text/plain": [
       "job_id               int64\n",
       "job_title           object\n",
       "category            object\n",
       "subcategory         object\n",
       "role                object\n",
       "Updated category    object\n",
       "importance          object\n",
       "dtype: object"
      ]
     },
     "execution_count": 8,
     "metadata": {},
     "output_type": "execute_result"
    }
   ],
   "source": [
    "df.dtypes"
   ]
  },
  {
   "cell_type": "code",
   "execution_count": 9,
   "id": "23a2f5a4",
   "metadata": {},
   "outputs": [
    {
     "data": {
      "text/plain": [
       "Index(['job_id', 'job_title', 'category', 'subcategory', 'role',\n",
       "       'Updated category', 'importance'],\n",
       "      dtype='object')"
      ]
     },
     "execution_count": 9,
     "metadata": {},
     "output_type": "execute_result"
    }
   ],
   "source": [
    "df.columns"
   ]
  },
  {
   "cell_type": "code",
   "execution_count": 10,
   "id": "8eda6410",
   "metadata": {},
   "outputs": [
    {
     "name": "stdout",
     "output_type": "stream",
     "text": [
      "<class 'pandas.core.frame.DataFrame'>\n",
      "RangeIndex: 39695 entries, 0 to 39694\n",
      "Data columns (total 7 columns):\n",
      " #   Column            Non-Null Count  Dtype \n",
      "---  ------            --------------  ----- \n",
      " 0   job_id            39695 non-null  int64 \n",
      " 1   job_title         39695 non-null  object\n",
      " 2   category          39695 non-null  object\n",
      " 3   subcategory       39695 non-null  object\n",
      " 4   role              38820 non-null  object\n",
      " 5   Updated category  28722 non-null  object\n",
      " 6   importance        19807 non-null  object\n",
      "dtypes: int64(1), object(6)\n",
      "memory usage: 2.1+ MB\n"
     ]
    }
   ],
   "source": [
    "df.info()"
   ]
  },
  {
   "cell_type": "code",
   "execution_count": 11,
   "id": "2f259341",
   "metadata": {},
   "outputs": [
    {
     "data": {
      "text/html": [
       "<div>\n",
       "<style scoped>\n",
       "    .dataframe tbody tr th:only-of-type {\n",
       "        vertical-align: middle;\n",
       "    }\n",
       "\n",
       "    .dataframe tbody tr th {\n",
       "        vertical-align: top;\n",
       "    }\n",
       "\n",
       "    .dataframe thead th {\n",
       "        text-align: right;\n",
       "    }\n",
       "</style>\n",
       "<table border=\"1\" class=\"dataframe\">\n",
       "  <thead>\n",
       "    <tr style=\"text-align: right;\">\n",
       "      <th></th>\n",
       "      <th>job_id</th>\n",
       "    </tr>\n",
       "  </thead>\n",
       "  <tbody>\n",
       "    <tr>\n",
       "      <th>count</th>\n",
       "      <td>3.969500e+04</td>\n",
       "    </tr>\n",
       "    <tr>\n",
       "      <th>mean</th>\n",
       "      <td>7.503656e+07</td>\n",
       "    </tr>\n",
       "    <tr>\n",
       "      <th>std</th>\n",
       "      <td>9.276053e+05</td>\n",
       "    </tr>\n",
       "    <tr>\n",
       "      <th>min</th>\n",
       "      <td>7.147168e+07</td>\n",
       "    </tr>\n",
       "    <tr>\n",
       "      <th>25%</th>\n",
       "      <td>7.437655e+07</td>\n",
       "    </tr>\n",
       "    <tr>\n",
       "      <th>50%</th>\n",
       "      <td>7.489198e+07</td>\n",
       "    </tr>\n",
       "    <tr>\n",
       "      <th>75%</th>\n",
       "      <td>7.576153e+07</td>\n",
       "    </tr>\n",
       "    <tr>\n",
       "      <th>max</th>\n",
       "      <td>7.669409e+07</td>\n",
       "    </tr>\n",
       "  </tbody>\n",
       "</table>\n",
       "</div>"
      ],
      "text/plain": [
       "             job_id\n",
       "count  3.969500e+04\n",
       "mean   7.503656e+07\n",
       "std    9.276053e+05\n",
       "min    7.147168e+07\n",
       "25%    7.437655e+07\n",
       "50%    7.489198e+07\n",
       "75%    7.576153e+07\n",
       "max    7.669409e+07"
      ]
     },
     "execution_count": 11,
     "metadata": {},
     "output_type": "execute_result"
    }
   ],
   "source": [
    "df.describe()"
   ]
  },
  {
   "cell_type": "code",
   "execution_count": 12,
   "id": "6edc5f67",
   "metadata": {},
   "outputs": [
    {
     "data": {
      "text/plain": [
       "job_id                  0\n",
       "job_title               0\n",
       "category                0\n",
       "subcategory             0\n",
       "role                  875\n",
       "Updated category    10973\n",
       "importance          19888\n",
       "dtype: int64"
      ]
     },
     "execution_count": 12,
     "metadata": {},
     "output_type": "execute_result"
    }
   ],
   "source": [
    "df.isna().sum()"
   ]
  },
  {
   "cell_type": "code",
   "execution_count": 14,
   "id": "d5b145cb",
   "metadata": {},
   "outputs": [],
   "source": [
    "df = df.dropna()"
   ]
  },
  {
   "cell_type": "code",
   "execution_count": 15,
   "id": "7bb6de44",
   "metadata": {},
   "outputs": [
    {
     "data": {
      "text/plain": [
       "job_id              0\n",
       "job_title           0\n",
       "category            0\n",
       "subcategory         0\n",
       "role                0\n",
       "Updated category    0\n",
       "importance          0\n",
       "dtype: int64"
      ]
     },
     "execution_count": 15,
     "metadata": {},
     "output_type": "execute_result"
    }
   ],
   "source": [
    "df.isna().sum()"
   ]
  },
  {
   "cell_type": "code",
   "execution_count": 16,
   "id": "7be41579",
   "metadata": {},
   "outputs": [
    {
     "data": {
      "text/plain": [
       "(8834, 7)"
      ]
     },
     "execution_count": 16,
     "metadata": {},
     "output_type": "execute_result"
    }
   ],
   "source": [
    "df.shape"
   ]
  },
  {
   "cell_type": "code",
   "execution_count": 17,
   "id": "9cac45a4",
   "metadata": {},
   "outputs": [
    {
     "data": {
      "text/html": [
       "<div>\n",
       "<style scoped>\n",
       "    .dataframe tbody tr th:only-of-type {\n",
       "        vertical-align: middle;\n",
       "    }\n",
       "\n",
       "    .dataframe tbody tr th {\n",
       "        vertical-align: top;\n",
       "    }\n",
       "\n",
       "    .dataframe thead th {\n",
       "        text-align: right;\n",
       "    }\n",
       "</style>\n",
       "<table border=\"1\" class=\"dataframe\">\n",
       "  <thead>\n",
       "    <tr style=\"text-align: right;\">\n",
       "      <th></th>\n",
       "      <th>job_id</th>\n",
       "      <th>job_title</th>\n",
       "      <th>category</th>\n",
       "      <th>subcategory</th>\n",
       "      <th>role</th>\n",
       "      <th>Updated category</th>\n",
       "      <th>importance</th>\n",
       "    </tr>\n",
       "  </thead>\n",
       "  <tbody>\n",
       "    <tr>\n",
       "      <th>2</th>\n",
       "      <td>74679363</td>\n",
       "      <td>Purchasing Executive</td>\n",
       "      <td>Manufacturing, Transport &amp; Logistics</td>\n",
       "      <td>Purchasing, Procurement &amp; Inventory</td>\n",
       "      <td>purchasing-executive</td>\n",
       "      <td>Operations/Logistics</td>\n",
       "      <td>Niveau 1</td>\n",
       "    </tr>\n",
       "    <tr>\n",
       "      <th>3</th>\n",
       "      <td>74657915</td>\n",
       "      <td>PURCHASING EXECUTIVE</td>\n",
       "      <td>Engineering</td>\n",
       "      <td>Project Engineering</td>\n",
       "      <td>purchasing-executive</td>\n",
       "      <td>Operations/Logistics</td>\n",
       "      <td>Niveau 1</td>\n",
       "    </tr>\n",
       "    <tr>\n",
       "      <th>6</th>\n",
       "      <td>74677668</td>\n",
       "      <td>Clerical Assistant (Educational Centre)</td>\n",
       "      <td>Administration &amp; Office Support</td>\n",
       "      <td>Administrative Assistants</td>\n",
       "      <td>clerical-assistant</td>\n",
       "      <td>Operations/Logistics</td>\n",
       "      <td>Niveau 3</td>\n",
       "    </tr>\n",
       "    <tr>\n",
       "      <th>8</th>\n",
       "      <td>74664838</td>\n",
       "      <td>Purchasing Assistant</td>\n",
       "      <td>Manufacturing, Transport &amp; Logistics</td>\n",
       "      <td>Purchasing, Procurement &amp; Inventory</td>\n",
       "      <td>purchasing-assistant</td>\n",
       "      <td>Operations/Logistics</td>\n",
       "      <td>Niveau 3</td>\n",
       "    </tr>\n",
       "    <tr>\n",
       "      <th>15</th>\n",
       "      <td>74654293</td>\n",
       "      <td>Assistant Human Capital Manager/ Senior Human ...</td>\n",
       "      <td>Human Resources &amp; Recruitment</td>\n",
       "      <td>Consulting &amp; Generalist HR</td>\n",
       "      <td>Human-Capital-Executive</td>\n",
       "      <td>Human Resources (HR)</td>\n",
       "      <td>Niveau 1</td>\n",
       "    </tr>\n",
       "    <tr>\n",
       "      <th>...</th>\n",
       "      <td>...</td>\n",
       "      <td>...</td>\n",
       "      <td>...</td>\n",
       "      <td>...</td>\n",
       "      <td>...</td>\n",
       "      <td>...</td>\n",
       "      <td>...</td>\n",
       "    </tr>\n",
       "    <tr>\n",
       "      <th>39675</th>\n",
       "      <td>76649050</td>\n",
       "      <td>Human Resource Manager</td>\n",
       "      <td>Human Resources &amp; Recruitment</td>\n",
       "      <td>Management - Internal</td>\n",
       "      <td>human-resources-manager</td>\n",
       "      <td>Human Resources (HR)</td>\n",
       "      <td>Niveau 3</td>\n",
       "    </tr>\n",
       "    <tr>\n",
       "      <th>39683</th>\n",
       "      <td>76653207</td>\n",
       "      <td>Banca Specialist (Johor)</td>\n",
       "      <td>Banking &amp; Financial Services</td>\n",
       "      <td>Banking - Retail/Branch</td>\n",
       "      <td>specialist</td>\n",
       "      <td>Finance</td>\n",
       "      <td>Niveau 3</td>\n",
       "    </tr>\n",
       "    <tr>\n",
       "      <th>39687</th>\n",
       "      <td>76636411</td>\n",
       "      <td>Admin Executive</td>\n",
       "      <td>Administration &amp; Office Support</td>\n",
       "      <td>Administrative Assistants</td>\n",
       "      <td>administrative-executive</td>\n",
       "      <td>Operations/Logistics</td>\n",
       "      <td>Niveau 1</td>\n",
       "    </tr>\n",
       "    <tr>\n",
       "      <th>39688</th>\n",
       "      <td>76651593</td>\n",
       "      <td>Cluster Director of Marcom</td>\n",
       "      <td>Marketing &amp; Communications</td>\n",
       "      <td>Management</td>\n",
       "      <td>Cluster-Director</td>\n",
       "      <td>Marketing/Sales</td>\n",
       "      <td>Niveau 2</td>\n",
       "    </tr>\n",
       "    <tr>\n",
       "      <th>39694</th>\n",
       "      <td>76653289</td>\n",
       "      <td>Banca Specialist (Klang Valley)</td>\n",
       "      <td>Banking &amp; Financial Services</td>\n",
       "      <td>Banking - Retail/Branch</td>\n",
       "      <td>specialist</td>\n",
       "      <td>Finance</td>\n",
       "      <td>Niveau 3</td>\n",
       "    </tr>\n",
       "  </tbody>\n",
       "</table>\n",
       "<p>8834 rows × 7 columns</p>\n",
       "</div>"
      ],
      "text/plain": [
       "         job_id                                          job_title  \\\n",
       "2      74679363                               Purchasing Executive   \n",
       "3      74657915                               PURCHASING EXECUTIVE   \n",
       "6      74677668            Clerical Assistant (Educational Centre)   \n",
       "8      74664838                               Purchasing Assistant   \n",
       "15     74654293  Assistant Human Capital Manager/ Senior Human ...   \n",
       "...         ...                                                ...   \n",
       "39675  76649050                             Human Resource Manager   \n",
       "39683  76653207                           Banca Specialist (Johor)   \n",
       "39687  76636411                                    Admin Executive   \n",
       "39688  76651593                         Cluster Director of Marcom   \n",
       "39694  76653289                    Banca Specialist (Klang Valley)   \n",
       "\n",
       "                                   category  \\\n",
       "2      Manufacturing, Transport & Logistics   \n",
       "3                               Engineering   \n",
       "6           Administration & Office Support   \n",
       "8      Manufacturing, Transport & Logistics   \n",
       "15            Human Resources & Recruitment   \n",
       "...                                     ...   \n",
       "39675         Human Resources & Recruitment   \n",
       "39683          Banking & Financial Services   \n",
       "39687       Administration & Office Support   \n",
       "39688            Marketing & Communications   \n",
       "39694          Banking & Financial Services   \n",
       "\n",
       "                               subcategory                      role  \\\n",
       "2      Purchasing, Procurement & Inventory      purchasing-executive   \n",
       "3                      Project Engineering      purchasing-executive   \n",
       "6                Administrative Assistants        clerical-assistant   \n",
       "8      Purchasing, Procurement & Inventory      purchasing-assistant   \n",
       "15              Consulting & Generalist HR   Human-Capital-Executive   \n",
       "...                                    ...                       ...   \n",
       "39675                Management - Internal   human-resources-manager   \n",
       "39683              Banking - Retail/Branch                specialist   \n",
       "39687            Administrative Assistants  administrative-executive   \n",
       "39688                           Management          Cluster-Director   \n",
       "39694              Banking - Retail/Branch                specialist   \n",
       "\n",
       "           Updated category importance  \n",
       "2      Operations/Logistics   Niveau 1  \n",
       "3      Operations/Logistics   Niveau 1  \n",
       "6      Operations/Logistics   Niveau 3  \n",
       "8      Operations/Logistics   Niveau 3  \n",
       "15     Human Resources (HR)   Niveau 1  \n",
       "...                     ...        ...  \n",
       "39675  Human Resources (HR)   Niveau 3  \n",
       "39683               Finance   Niveau 3  \n",
       "39687  Operations/Logistics   Niveau 1  \n",
       "39688       Marketing/Sales   Niveau 2  \n",
       "39694               Finance   Niveau 3  \n",
       "\n",
       "[8834 rows x 7 columns]"
      ]
     },
     "execution_count": 17,
     "metadata": {},
     "output_type": "execute_result"
    }
   ],
   "source": [
    "df"
   ]
  },
  {
   "cell_type": "code",
   "execution_count": 18,
   "id": "5391dc57",
   "metadata": {},
   "outputs": [],
   "source": [
    "df.reset_index(inplace=True)"
   ]
  },
  {
   "cell_type": "code",
   "execution_count": 19,
   "id": "5786264d",
   "metadata": {},
   "outputs": [
    {
     "data": {
      "text/html": [
       "<div>\n",
       "<style scoped>\n",
       "    .dataframe tbody tr th:only-of-type {\n",
       "        vertical-align: middle;\n",
       "    }\n",
       "\n",
       "    .dataframe tbody tr th {\n",
       "        vertical-align: top;\n",
       "    }\n",
       "\n",
       "    .dataframe thead th {\n",
       "        text-align: right;\n",
       "    }\n",
       "</style>\n",
       "<table border=\"1\" class=\"dataframe\">\n",
       "  <thead>\n",
       "    <tr style=\"text-align: right;\">\n",
       "      <th></th>\n",
       "      <th>index</th>\n",
       "      <th>job_id</th>\n",
       "      <th>job_title</th>\n",
       "      <th>category</th>\n",
       "      <th>subcategory</th>\n",
       "      <th>role</th>\n",
       "      <th>Updated category</th>\n",
       "      <th>importance</th>\n",
       "    </tr>\n",
       "  </thead>\n",
       "  <tbody>\n",
       "    <tr>\n",
       "      <th>0</th>\n",
       "      <td>2</td>\n",
       "      <td>74679363</td>\n",
       "      <td>Purchasing Executive</td>\n",
       "      <td>Manufacturing, Transport &amp; Logistics</td>\n",
       "      <td>Purchasing, Procurement &amp; Inventory</td>\n",
       "      <td>purchasing-executive</td>\n",
       "      <td>Operations/Logistics</td>\n",
       "      <td>Niveau 1</td>\n",
       "    </tr>\n",
       "    <tr>\n",
       "      <th>1</th>\n",
       "      <td>3</td>\n",
       "      <td>74657915</td>\n",
       "      <td>PURCHASING EXECUTIVE</td>\n",
       "      <td>Engineering</td>\n",
       "      <td>Project Engineering</td>\n",
       "      <td>purchasing-executive</td>\n",
       "      <td>Operations/Logistics</td>\n",
       "      <td>Niveau 1</td>\n",
       "    </tr>\n",
       "    <tr>\n",
       "      <th>2</th>\n",
       "      <td>6</td>\n",
       "      <td>74677668</td>\n",
       "      <td>Clerical Assistant (Educational Centre)</td>\n",
       "      <td>Administration &amp; Office Support</td>\n",
       "      <td>Administrative Assistants</td>\n",
       "      <td>clerical-assistant</td>\n",
       "      <td>Operations/Logistics</td>\n",
       "      <td>Niveau 3</td>\n",
       "    </tr>\n",
       "    <tr>\n",
       "      <th>3</th>\n",
       "      <td>8</td>\n",
       "      <td>74664838</td>\n",
       "      <td>Purchasing Assistant</td>\n",
       "      <td>Manufacturing, Transport &amp; Logistics</td>\n",
       "      <td>Purchasing, Procurement &amp; Inventory</td>\n",
       "      <td>purchasing-assistant</td>\n",
       "      <td>Operations/Logistics</td>\n",
       "      <td>Niveau 3</td>\n",
       "    </tr>\n",
       "    <tr>\n",
       "      <th>4</th>\n",
       "      <td>15</td>\n",
       "      <td>74654293</td>\n",
       "      <td>Assistant Human Capital Manager/ Senior Human ...</td>\n",
       "      <td>Human Resources &amp; Recruitment</td>\n",
       "      <td>Consulting &amp; Generalist HR</td>\n",
       "      <td>Human-Capital-Executive</td>\n",
       "      <td>Human Resources (HR)</td>\n",
       "      <td>Niveau 1</td>\n",
       "    </tr>\n",
       "    <tr>\n",
       "      <th>...</th>\n",
       "      <td>...</td>\n",
       "      <td>...</td>\n",
       "      <td>...</td>\n",
       "      <td>...</td>\n",
       "      <td>...</td>\n",
       "      <td>...</td>\n",
       "      <td>...</td>\n",
       "      <td>...</td>\n",
       "    </tr>\n",
       "    <tr>\n",
       "      <th>8829</th>\n",
       "      <td>39675</td>\n",
       "      <td>76649050</td>\n",
       "      <td>Human Resource Manager</td>\n",
       "      <td>Human Resources &amp; Recruitment</td>\n",
       "      <td>Management - Internal</td>\n",
       "      <td>human-resources-manager</td>\n",
       "      <td>Human Resources (HR)</td>\n",
       "      <td>Niveau 3</td>\n",
       "    </tr>\n",
       "    <tr>\n",
       "      <th>8830</th>\n",
       "      <td>39683</td>\n",
       "      <td>76653207</td>\n",
       "      <td>Banca Specialist (Johor)</td>\n",
       "      <td>Banking &amp; Financial Services</td>\n",
       "      <td>Banking - Retail/Branch</td>\n",
       "      <td>specialist</td>\n",
       "      <td>Finance</td>\n",
       "      <td>Niveau 3</td>\n",
       "    </tr>\n",
       "    <tr>\n",
       "      <th>8831</th>\n",
       "      <td>39687</td>\n",
       "      <td>76636411</td>\n",
       "      <td>Admin Executive</td>\n",
       "      <td>Administration &amp; Office Support</td>\n",
       "      <td>Administrative Assistants</td>\n",
       "      <td>administrative-executive</td>\n",
       "      <td>Operations/Logistics</td>\n",
       "      <td>Niveau 1</td>\n",
       "    </tr>\n",
       "    <tr>\n",
       "      <th>8832</th>\n",
       "      <td>39688</td>\n",
       "      <td>76651593</td>\n",
       "      <td>Cluster Director of Marcom</td>\n",
       "      <td>Marketing &amp; Communications</td>\n",
       "      <td>Management</td>\n",
       "      <td>Cluster-Director</td>\n",
       "      <td>Marketing/Sales</td>\n",
       "      <td>Niveau 2</td>\n",
       "    </tr>\n",
       "    <tr>\n",
       "      <th>8833</th>\n",
       "      <td>39694</td>\n",
       "      <td>76653289</td>\n",
       "      <td>Banca Specialist (Klang Valley)</td>\n",
       "      <td>Banking &amp; Financial Services</td>\n",
       "      <td>Banking - Retail/Branch</td>\n",
       "      <td>specialist</td>\n",
       "      <td>Finance</td>\n",
       "      <td>Niveau 3</td>\n",
       "    </tr>\n",
       "  </tbody>\n",
       "</table>\n",
       "<p>8834 rows × 8 columns</p>\n",
       "</div>"
      ],
      "text/plain": [
       "      index    job_id                                          job_title  \\\n",
       "0         2  74679363                               Purchasing Executive   \n",
       "1         3  74657915                               PURCHASING EXECUTIVE   \n",
       "2         6  74677668            Clerical Assistant (Educational Centre)   \n",
       "3         8  74664838                               Purchasing Assistant   \n",
       "4        15  74654293  Assistant Human Capital Manager/ Senior Human ...   \n",
       "...     ...       ...                                                ...   \n",
       "8829  39675  76649050                             Human Resource Manager   \n",
       "8830  39683  76653207                           Banca Specialist (Johor)   \n",
       "8831  39687  76636411                                    Admin Executive   \n",
       "8832  39688  76651593                         Cluster Director of Marcom   \n",
       "8833  39694  76653289                    Banca Specialist (Klang Valley)   \n",
       "\n",
       "                                  category  \\\n",
       "0     Manufacturing, Transport & Logistics   \n",
       "1                              Engineering   \n",
       "2          Administration & Office Support   \n",
       "3     Manufacturing, Transport & Logistics   \n",
       "4            Human Resources & Recruitment   \n",
       "...                                    ...   \n",
       "8829         Human Resources & Recruitment   \n",
       "8830          Banking & Financial Services   \n",
       "8831       Administration & Office Support   \n",
       "8832            Marketing & Communications   \n",
       "8833          Banking & Financial Services   \n",
       "\n",
       "                              subcategory                      role  \\\n",
       "0     Purchasing, Procurement & Inventory      purchasing-executive   \n",
       "1                     Project Engineering      purchasing-executive   \n",
       "2               Administrative Assistants        clerical-assistant   \n",
       "3     Purchasing, Procurement & Inventory      purchasing-assistant   \n",
       "4              Consulting & Generalist HR   Human-Capital-Executive   \n",
       "...                                   ...                       ...   \n",
       "8829                Management - Internal   human-resources-manager   \n",
       "8830              Banking - Retail/Branch                specialist   \n",
       "8831            Administrative Assistants  administrative-executive   \n",
       "8832                           Management          Cluster-Director   \n",
       "8833              Banking - Retail/Branch                specialist   \n",
       "\n",
       "          Updated category importance  \n",
       "0     Operations/Logistics   Niveau 1  \n",
       "1     Operations/Logistics   Niveau 1  \n",
       "2     Operations/Logistics   Niveau 3  \n",
       "3     Operations/Logistics   Niveau 3  \n",
       "4     Human Resources (HR)   Niveau 1  \n",
       "...                    ...        ...  \n",
       "8829  Human Resources (HR)   Niveau 3  \n",
       "8830               Finance   Niveau 3  \n",
       "8831  Operations/Logistics   Niveau 1  \n",
       "8832       Marketing/Sales   Niveau 2  \n",
       "8833               Finance   Niveau 3  \n",
       "\n",
       "[8834 rows x 8 columns]"
      ]
     },
     "execution_count": 19,
     "metadata": {},
     "output_type": "execute_result"
    }
   ],
   "source": [
    "df"
   ]
  },
  {
   "cell_type": "code",
   "execution_count": 39,
   "id": "0966650b",
   "metadata": {},
   "outputs": [
    {
     "name": "stdout",
     "output_type": "stream",
     "text": [
      "No of unique job_titles: 5327\n"
     ]
    },
    {
     "data": {
      "text/plain": [
       "(None,\n",
       " array(['Purchasing Executive', 'PURCHASING EXECUTIVE',\n",
       "        'Clerical Assistant (Educational Centre)', ...,\n",
       "        'E-Commerce Marketplace Assistant- Shopee, Lazada (Incentives)',\n",
       "        'Treasury Analyst', 'Cluster Director of Marcom'], dtype=object))"
      ]
     },
     "execution_count": 39,
     "metadata": {},
     "output_type": "execute_result"
    }
   ],
   "source": [
    "print(\"No of unique job_titles:\",df['job_title'].nunique()),df['job_title'].unique()"
   ]
  },
  {
   "cell_type": "code",
   "execution_count": 37,
   "id": "dc8872d5",
   "metadata": {},
   "outputs": [
    {
     "name": "stdout",
     "output_type": "stream",
     "text": [
      "No of unique categories: 26\n"
     ]
    },
    {
     "data": {
      "text/plain": [
       "(None,\n",
       " array(['Manufacturing, Transport & Logistics', 'Engineering',\n",
       "        'Administration & Office Support', 'Human Resources & Recruitment',\n",
       "        'Information & Communication Technology',\n",
       "        'Banking & Financial Services', 'Construction', 'Sales',\n",
       "        'Consulting & Strategy', 'Accounting', 'Design & Architecture',\n",
       "        'CEO & General Management', 'Science & Technology',\n",
       "        'Advertising, Arts & Media', 'Marketing & Communications',\n",
       "        'Call Centre & Customer Service', 'Legal',\n",
       "        'Retail & Consumer Products', 'Insurance & Superannuation',\n",
       "        'Hospitality & Tourism', 'Trades & Services',\n",
       "        'Mining, Resources & Energy', 'Real Estate & Property',\n",
       "        'Healthcare & Medical', 'Education & Training',\n",
       "        'Sport & Recreation'], dtype=object))"
      ]
     },
     "execution_count": 37,
     "metadata": {},
     "output_type": "execute_result"
    }
   ],
   "source": [
    "print(\"No of unique categories:\",df['category'].nunique()),df['category'].unique()"
   ]
  },
  {
   "cell_type": "code",
   "execution_count": 24,
   "id": "244c3a0d",
   "metadata": {},
   "outputs": [
    {
     "data": {
      "text/plain": [
       "array(['Niveau 1', 'Niveau 3', 'Niveau 4', 'Niveau 4 ou 5', 'Niveau 2',\n",
       "       'Journalist', 'Free'], dtype=object)"
      ]
     },
     "execution_count": 24,
     "metadata": {},
     "output_type": "execute_result"
    }
   ],
   "source": [
    "print(\"No of unique importandf['importance'].nunique(),df['importance'].unique()"
   ]
  },
  {
   "cell_type": "code",
   "execution_count": 26,
   "id": "4e8a5ae6",
   "metadata": {},
   "outputs": [
    {
     "data": {
      "text/plain": [
       "931"
      ]
     },
     "execution_count": 26,
     "metadata": {},
     "output_type": "execute_result"
    }
   ],
   "source": [
    "df['role'].nunique()"
   ]
  },
  {
   "cell_type": "code",
   "execution_count": null,
   "id": "aef8d76d",
   "metadata": {},
   "outputs": [],
   "source": []
  }
 ],
 "metadata": {
  "kernelspec": {
   "display_name": "Python 3 (ipykernel)",
   "language": "python",
   "name": "python3"
  },
  "language_info": {
   "codemirror_mode": {
    "name": "ipython",
    "version": 3
   },
   "file_extension": ".py",
   "mimetype": "text/x-python",
   "name": "python",
   "nbconvert_exporter": "python",
   "pygments_lexer": "ipython3",
   "version": "3.10.9"
  }
 },
 "nbformat": 4,
 "nbformat_minor": 5
}
